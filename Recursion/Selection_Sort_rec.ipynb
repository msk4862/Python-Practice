{
 "cells": [
  {
   "cell_type": "code",
   "execution_count": 56,
   "metadata": {},
   "outputs": [],
   "source": [
    "def select(ar, i, elemI):\n",
    "    if i == len(ar):\n",
    "        return elemI\n",
    "    elif ar[i] < ar[elemI]:\n",
    "        elemI = i\n",
    "    return select(ar, i+1, elemI)"
   ]
  },
  {
   "cell_type": "code",
   "execution_count": 55,
   "metadata": {},
   "outputs": [],
   "source": [
    "def selectionSort(ar):\n",
    "    if len(ar) == 1:\n",
    "        return ar\n",
    "    else:\n",
    "        print(ar)\n",
    "        i = select(ar, 0, 0)\n",
    "        ar[i], ar[0] = ar[0], ar[i]\n",
    "        return [ar[0]]+selectionSort(ar[1:])"
   ]
  },
  {
   "cell_type": "code",
   "execution_count": 53,
   "metadata": {},
   "outputs": [
    {
     "name": "stdout",
     "output_type": "stream",
     "text": [
      "[6, 2, 9, 1, -1, 4]\n",
      "[2, 9, 1, 6, 4]\n",
      "[9, 2, 6, 4]\n",
      "[9, 6, 4]\n",
      "[9, 4]\n"
     ]
    },
    {
     "data": {
      "text/plain": [
       "[-1, 1, 2, 6, 9, 4]"
      ]
     },
     "execution_count": 53,
     "metadata": {},
     "output_type": "execute_result"
    }
   ],
   "source": [
    "ar = [6,2,9,1,-1,4]\n",
    "a = selectionSort(ar)\n",
    "a"
   ]
  },
  {
   "cell_type": "code",
   "execution_count": 43,
   "metadata": {},
   "outputs": [
    {
     "data": {
      "text/plain": [
       "4"
      ]
     },
     "execution_count": 43,
     "metadata": {},
     "output_type": "execute_result"
    }
   ],
   "source": [
    "h = [-1,4,5,5,6]\n",
    "select(h[1:], 0 , h[1])"
   ]
  },
  {
   "cell_type": "code",
   "execution_count": null,
   "metadata": {},
   "outputs": [],
   "source": []
  }
 ],
 "metadata": {
  "kernelspec": {
   "display_name": "Python 3",
   "language": "python",
   "name": "python3"
  },
  "language_info": {
   "codemirror_mode": {
    "name": "ipython",
    "version": 3
   },
   "file_extension": ".py",
   "mimetype": "text/x-python",
   "name": "python",
   "nbconvert_exporter": "python",
   "pygments_lexer": "ipython3",
   "version": "3.7.1"
  }
 },
 "nbformat": 4,
 "nbformat_minor": 2
}
