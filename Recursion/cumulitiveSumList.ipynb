{
 "cells": [
  {
   "cell_type": "code",
   "execution_count": 4,
   "metadata": {},
   "outputs": [],
   "source": [
    "def cumListSum(Lst, cumLst= [], index = 0):\n",
    "    '''\n",
    "        Objective:\n",
    "        Input Params:\n",
    "        Return Value:\n",
    "    '''\n",
    "    if index == len(Lst):\n",
    "        return cumLst\n",
    "    elif index==0:\n",
    "        cumLst.append(Lst[index])\n",
    "        return cumListSum(Lst, cumLst, index+1)\n",
    "    else:\n",
    "        cumLst.append(Lst[index] + cumLst[index-1])\n",
    "        return cumListSum(Lst, cumLst, index+1)"
   ]
  },
  {
   "cell_type": "code",
   "execution_count": 5,
   "metadata": {},
   "outputs": [
    {
     "data": {
      "text/plain": [
       "[3, 7, 12, 18, 24]"
      ]
     },
     "execution_count": 5,
     "metadata": {},
     "output_type": "execute_result"
    }
   ],
   "source": [
    "cumListSum([3,4,5,6,6])"
   ]
  },
  {
   "cell_type": "code",
   "execution_count": null,
   "metadata": {},
   "outputs": [],
   "source": []
  }
 ],
 "metadata": {
  "kernelspec": {
   "display_name": "Python 3",
   "language": "python",
   "name": "python3"
  },
  "language_info": {
   "codemirror_mode": {
    "name": "ipython",
    "version": 3
   },
   "file_extension": ".py",
   "mimetype": "text/x-python",
   "name": "python",
   "nbconvert_exporter": "python",
   "pygments_lexer": "ipython3",
   "version": "3.7.1"
  }
 },
 "nbformat": 4,
 "nbformat_minor": 2
}
