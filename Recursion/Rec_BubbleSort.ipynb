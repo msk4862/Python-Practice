{
 "cells": [
  {
   "cell_type": "code",
   "execution_count": 40,
   "metadata": {},
   "outputs": [],
   "source": [
    "def bubble(ar, i, l):\n",
    "    '''\n",
    "    Objective: To put the smallest element at last position in given range\n",
    "    Input:\n",
    "        ar = list - Given list of numbers\n",
    "        i = numeric value - index from 0 to l\n",
    "        l = numeric value - last index\n",
    "    '''\n",
    "    '''\n",
    "    Approach: Using recuresion to implement bubble method\n",
    "    '''\n",
    "    if i == l:\n",
    "            return\n",
    "    elif ar[i] < ar[i+1]:\n",
    "        ar[i], ar[i+1] = ar[i+1], ar[i]\n",
    "        \n",
    "    bubble(ar, i+1, l)"
   ]
  },
  {
   "cell_type": "code",
   "execution_count": 45,
   "metadata": {},
   "outputs": [],
   "source": [
    "def bubbleSort(ar, l):\n",
    "    '''\n",
    "    Objective: To call the bubble() method on all ranges of ar\n",
    "    Input:\n",
    "        ar = list - Given list of numbers\n",
    "        l = numeric value - size of ar\n",
    "    '''\n",
    "    '''\n",
    "    Approach: Using recursion to implement bubblesort\n",
    "    '''\n",
    "    if l == 0:\n",
    "        return\n",
    "    else:\n",
    "        bubble(ar, 0, l)\n",
    "        print(ar)\n",
    "        bubbleSort(ar, l-1)"
   ]
  },
  {
   "cell_type": "code",
   "execution_count": 46,
   "metadata": {},
   "outputs": [
    {
     "name": "stdout",
     "output_type": "stream",
     "text": [
      "[2, 0, 1, 6, -11, 67, 432, -33]\n",
      "[2, 1, 6, 0, 67, 432, -11, -33]\n",
      "[2, 6, 1, 67, 432, 0, -11, -33]\n",
      "[6, 2, 67, 432, 1, 0, -11, -33]\n",
      "[6, 67, 432, 2, 1, 0, -11, -33]\n",
      "[67, 432, 6, 2, 1, 0, -11, -33]\n",
      "[432, 67, 6, 2, 1, 0, -11, -33]\n"
     ]
    },
    {
     "data": {
      "text/plain": [
       "[432, 67, 6, 2, 1, 0, -11, -33]"
      ]
     },
     "execution_count": 46,
     "metadata": {},
     "output_type": "execute_result"
    }
   ],
   "source": [
    "ar = [0,2, -33,1,6,-11,67,432]\n",
    "bubbleSort(ar, len(ar)-1)\n",
    "ar"
   ]
  },
  {
   "cell_type": "code",
   "execution_count": null,
   "metadata": {},
   "outputs": [],
   "source": []
  }
 ],
 "metadata": {
  "kernelspec": {
   "display_name": "Python 3",
   "language": "python",
   "name": "python3"
  },
  "language_info": {
   "codemirror_mode": {
    "name": "ipython",
    "version": 3
   },
   "file_extension": ".py",
   "mimetype": "text/x-python",
   "name": "python",
   "nbconvert_exporter": "python",
   "pygments_lexer": "ipython3",
   "version": "3.6.5"
  }
 },
 "nbformat": 4,
 "nbformat_minor": 2
}
