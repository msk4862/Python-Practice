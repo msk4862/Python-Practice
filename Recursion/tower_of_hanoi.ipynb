{
 "cells": [
  {
   "cell_type": "code",
   "execution_count": 25,
   "metadata": {},
   "outputs": [],
   "source": [
    "def hanoi(disks, first_stack, target_stack, spare_stack):\n",
    "    '''\n",
    "    Input Params:\n",
    "        disks : numeric - no. of disks\n",
    "        first_stack : string - stack in which disks are initially present\n",
    "        target_stack : string - stack where we need to move the disks\n",
    "        spare_stack : string - stack which we can use in the process \n",
    "    '''\n",
    "    if disks == 1:\n",
    "        print('Move from ', first_stack, ' to ', target_stack)\n",
    "    else:\n",
    "        hanoi(disks-1, first_stack, spare_stack, target_stack)\n",
    "        hanoi(1, first_stack, target_stack, spare_stack)\n",
    "        hanoi(disks-1, spare_stack, target_stack, first_stack)"
   ]
  },
  {
   "cell_type": "code",
   "execution_count": 28,
   "metadata": {},
   "outputs": [
    {
     "name": "stdout",
     "output_type": "stream",
     "text": [
      "Move from  f  to  t\n",
      "Move from  f  to  s\n",
      "Move from  t  to  s\n",
      "Move from  f  to  t\n",
      "Move from  s  to  f\n",
      "Move from  s  to  t\n",
      "Move from  f  to  t\n",
      "Move from  f  to  s\n",
      "Move from  t  to  s\n",
      "Move from  t  to  f\n",
      "Move from  s  to  f\n",
      "Move from  t  to  s\n",
      "Move from  f  to  t\n",
      "Move from  f  to  s\n",
      "Move from  t  to  s\n",
      "Move from  f  to  t\n",
      "Move from  s  to  f\n",
      "Move from  s  to  t\n",
      "Move from  f  to  t\n",
      "Move from  s  to  f\n",
      "Move from  t  to  s\n",
      "Move from  t  to  f\n",
      "Move from  s  to  f\n",
      "Move from  s  to  t\n",
      "Move from  f  to  t\n",
      "Move from  f  to  s\n",
      "Move from  t  to  s\n",
      "Move from  f  to  t\n",
      "Move from  s  to  f\n",
      "Move from  s  to  t\n",
      "Move from  f  to  t\n"
     ]
    }
   ],
   "source": [
    "hanoi(5, 'f', 't', 's')"
   ]
  },
  {
   "cell_type": "code",
   "execution_count": null,
   "metadata": {},
   "outputs": [],
   "source": []
  }
 ],
 "metadata": {
  "kernelspec": {
   "display_name": "Python 3",
   "language": "python",
   "name": "python3"
  },
  "language_info": {
   "codemirror_mode": {
    "name": "ipython",
    "version": 3
   },
   "file_extension": ".py",
   "mimetype": "text/x-python",
   "name": "python",
   "nbconvert_exporter": "python",
   "pygments_lexer": "ipython3",
   "version": "3.7.1"
  }
 },
 "nbformat": 4,
 "nbformat_minor": 2
}
