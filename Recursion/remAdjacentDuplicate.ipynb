{
 "cells": [
  {
   "cell_type": "code",
   "execution_count": 8,
   "metadata": {},
   "outputs": [],
   "source": [
    "def remAdjacentDuplicate(lst, index= 0, new=[]):\n",
    "    if index == len(lst)-1:\n",
    "        new.append(lst[index])\n",
    "        return new\n",
    "    elif lst[index]==lst[index+1]:\n",
    "        return remAdjacentDuplicate(lst, index+1, new)\n",
    "    else:\n",
    "        new.append(lst[index])\n",
    "        return remAdjacentDuplicate(lst, index+1, new)"
   ]
  },
  {
   "cell_type": "code",
   "execution_count": 7,
   "metadata": {},
   "outputs": [
    {
     "data": {
      "text/plain": [
       "[2, 2, 2, 24, 4, 46, 5, 4, 4, 4, 4, 4]"
      ]
     },
     "execution_count": 7,
     "metadata": {},
     "output_type": "execute_result"
    }
   ],
   "source": [
    "l = [2,2,2,24,4,46,5,4,4,4,4]\n",
    "remAdjacentDuplicate(l)"
   ]
  },
  {
   "cell_type": "code",
   "execution_count": null,
   "metadata": {},
   "outputs": [],
   "source": []
  }
 ],
 "metadata": {
  "kernelspec": {
   "display_name": "Python 3",
   "language": "python",
   "name": "python3"
  },
  "language_info": {
   "codemirror_mode": {
    "name": "ipython",
    "version": 3
   },
   "file_extension": ".py",
   "mimetype": "text/x-python",
   "name": "python",
   "nbconvert_exporter": "python",
   "pygments_lexer": "ipython3",
   "version": "3.7.1"
  }
 },
 "nbformat": 4,
 "nbformat_minor": 2
}
