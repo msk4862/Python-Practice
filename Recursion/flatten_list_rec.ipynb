{
 "cells": [
  {
   "cell_type": "code",
   "execution_count": 30,
   "metadata": {},
   "outputs": [],
   "source": [
    "def flatten(l):\n",
    "    '''\n",
    "        Objective: To convert a nested list into simple list\n",
    "        Input Params:\n",
    "            l = nested list\n",
    "        Output: simple un-nested list\n",
    "    '''\n",
    "    if l == []:\n",
    "        return l\n",
    "        \n",
    "    elif type(l[0]) == list:\n",
    "        return flatten(l[0]) + flatten(l[1:])\n",
    "    \n",
    "    else:\n",
    "        return [l[0]] + flatten(l[1:])\n",
    "        \n"
   ]
  },
  {
   "cell_type": "code",
   "execution_count": 31,
   "metadata": {},
   "outputs": [
    {
     "data": {
      "text/plain": [
       "True"
      ]
     },
     "execution_count": 31,
     "metadata": {},
     "output_type": "execute_result"
    }
   ],
   "source": [
    "l = [[2],[5,6,[7,8]]]\n",
    "type(l) == list"
   ]
  },
  {
   "cell_type": "code",
   "execution_count": 32,
   "metadata": {},
   "outputs": [
    {
     "data": {
      "text/plain": [
       "[2, 5, 6, 7, 8]"
      ]
     },
     "execution_count": 32,
     "metadata": {},
     "output_type": "execute_result"
    }
   ],
   "source": [
    "l = [[2],[5,6,[7,8]],[]]\n",
    "flatten(l)"
   ]
  },
  {
   "cell_type": "code",
   "execution_count": 41,
   "metadata": {},
   "outputs": [],
   "source": [
    "def flatten1(lst, index=0, new=[]):\n",
    "    if index == len(lst):\n",
    "        return new\n",
    "    else:\n",
    "        if type(lst[index]) == list:\n",
    "            l = flatten1(lst[index], new = [])\n",
    "            new += l\n",
    "        else:\n",
    "            new.append(lst[index])\n",
    "        return flatten1(lst, index+1, new)"
   ]
  },
  {
   "cell_type": "code",
   "execution_count": 42,
   "metadata": {},
   "outputs": [
    {
     "data": {
      "text/plain": [
       "[2, 5, 6, 7, 8]"
      ]
     },
     "execution_count": 42,
     "metadata": {},
     "output_type": "execute_result"
    }
   ],
   "source": [
    "l = [[2],[5,6,[7,8]],[]]\n",
    "flatten1(l)"
   ]
  },
  {
   "cell_type": "code",
   "execution_count": null,
   "metadata": {},
   "outputs": [],
   "source": []
  }
 ],
 "metadata": {
  "kernelspec": {
   "display_name": "Python 3",
   "language": "python",
   "name": "python3"
  },
  "language_info": {
   "codemirror_mode": {
    "name": "ipython",
    "version": 3
   },
   "file_extension": ".py",
   "mimetype": "text/x-python",
   "name": "python",
   "nbconvert_exporter": "python",
   "pygments_lexer": "ipython3",
   "version": "3.7.1"
  }
 },
 "nbformat": 4,
 "nbformat_minor": 2
}
