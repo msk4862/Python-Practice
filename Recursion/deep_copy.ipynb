{
 "cells": [
  {
   "cell_type": "code",
   "execution_count": 17,
   "metadata": {},
   "outputs": [],
   "source": [
    "def list_deep_copy(lst):\n",
    "    '''\n",
    "        Objective: To create a deep copy of list\n",
    "        Input Parameters\n",
    "           lst: Given list\n",
    "        Return value: copied list\n",
    "        Approach: Using recursion\n",
    "    '''\n",
    "    if lst == []:\n",
    "        return lst\n",
    "    \n",
    "    elif type(lst[0]) == list:\n",
    "        return [list_deep_copy(lst[0])] + list_deep_copy(lst[1:])\n",
    "    else:\n",
    "        return [lst[0]] + list_deep_copy(lst[1:])"
   ]
  },
  {
   "cell_type": "code",
   "execution_count": 18,
   "metadata": {},
   "outputs": [
    {
     "data": {
      "text/plain": [
       "[5, [4, [4, 5]], 6]"
      ]
     },
     "execution_count": 18,
     "metadata": {},
     "output_type": "execute_result"
    }
   ],
   "source": [
    "l = [5,[4,[4,5]],6]\n",
    "new = list_deep_copy(l)\n",
    "new"
   ]
  },
  {
   "cell_type": "code",
   "execution_count": 19,
   "metadata": {},
   "outputs": [
    {
     "data": {
      "text/plain": [
       "2043469368072"
      ]
     },
     "execution_count": 19,
     "metadata": {},
     "output_type": "execute_result"
    }
   ],
   "source": [
    "id(l[1])"
   ]
  },
  {
   "cell_type": "code",
   "execution_count": 20,
   "metadata": {},
   "outputs": [
    {
     "data": {
      "text/plain": [
       "2043469441992"
      ]
     },
     "execution_count": 20,
     "metadata": {},
     "output_type": "execute_result"
    }
   ],
   "source": [
    "id(new[1])"
   ]
  },
  {
   "cell_type": "code",
   "execution_count": 11,
   "metadata": {},
   "outputs": [],
   "source": [
    "def deep(lst, index=0, new=[]):\n",
    "    if index == len(lst):\n",
    "        return new\n",
    "    else:\n",
    "        if type(lst[index]) == list:\n",
    "            l = deep(lst[index], new=[])\n",
    "            new.append(l)\n",
    "        else:\n",
    "            new.append(lst[index])\n",
    "        return deep(lst, index+1, new)"
   ]
  },
  {
   "cell_type": "code",
   "execution_count": 12,
   "metadata": {},
   "outputs": [
    {
     "data": {
      "text/plain": [
       "[[2], [5, 6, [7, 8]], []]"
      ]
     },
     "execution_count": 12,
     "metadata": {},
     "output_type": "execute_result"
    }
   ],
   "source": [
    "l = [[2],[5,6,[7,8]],[]]\n",
    "new = deep(l)\n",
    "new"
   ]
  },
  {
   "cell_type": "code",
   "execution_count": 13,
   "metadata": {},
   "outputs": [
    {
     "name": "stdout",
     "output_type": "stream",
     "text": [
      "2649100928968 2649100900808\n"
     ]
    }
   ],
   "source": [
    "print(id(l[1]),id(new[1]) )"
   ]
  },
  {
   "cell_type": "code",
   "execution_count": null,
   "metadata": {},
   "outputs": [],
   "source": []
  }
 ],
 "metadata": {
  "kernelspec": {
   "display_name": "Python 3",
   "language": "python",
   "name": "python3"
  },
  "language_info": {
   "codemirror_mode": {
    "name": "ipython",
    "version": 3
   },
   "file_extension": ".py",
   "mimetype": "text/x-python",
   "name": "python",
   "nbconvert_exporter": "python",
   "pygments_lexer": "ipython3",
   "version": "3.7.1"
  }
 },
 "nbformat": 4,
 "nbformat_minor": 2
}
