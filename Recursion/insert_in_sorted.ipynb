{
 "cells": [
  {
   "cell_type": "code",
   "execution_count": 3,
   "metadata": {},
   "outputs": [],
   "source": [
    "def insert_in_list(l, item):\n",
    "    if len(l)==0 or l[0]>=item:\n",
    "        l.insert(0, item)\n",
    "        return l\n",
    "    else:\n",
    "        return l[0:1] + insert_in_list(l[1:len(l)], item)"
   ]
  },
  {
   "cell_type": "code",
   "execution_count": 6,
   "metadata": {},
   "outputs": [
    {
     "data": {
      "text/plain": [
       "[1, 3, 5, 6, 10]"
      ]
     },
     "execution_count": 6,
     "metadata": {},
     "output_type": "execute_result"
    }
   ],
   "source": [
    "insert_in_list([3,5,6,10],1)"
   ]
  },
  {
   "cell_type": "code",
   "execution_count": 57,
   "metadata": {},
   "outputs": [],
   "source": [
    "def insert_faster(ar, item, l, r):\n",
    "    m = (l+r)//2\n",
    "    if l> r or ar[m] == item:\n",
    "        ar.insert(l, item)\n",
    "    #if ar[m] <= item and ar[m+1] > item:\n",
    "        \n",
    "    elif ar[m] < item:\n",
    "        insert_faster(ar, item, m+1, r)\n",
    "    elif ar[m] > item:\n",
    "        insert_faster(ar, item, l, m-1)"
   ]
  },
  {
   "cell_type": "code",
   "execution_count": 60,
   "metadata": {},
   "outputs": [
    {
     "data": {
      "text/plain": [
       "[2, 3, 8, 9, 12]"
      ]
     },
     "execution_count": 60,
     "metadata": {},
     "output_type": "execute_result"
    }
   ],
   "source": [
    "ar = [2,3, 8, 12]\n",
    "insert_faster(ar, 9, 0, len(ar)-1)\n",
    "ar"
   ]
  },
  {
   "cell_type": "code",
   "execution_count": null,
   "metadata": {},
   "outputs": [],
   "source": []
  }
 ],
 "metadata": {
  "kernelspec": {
   "display_name": "Python 3",
   "language": "python",
   "name": "python3"
  },
  "language_info": {
   "codemirror_mode": {
    "name": "ipython",
    "version": 3
   },
   "file_extension": ".py",
   "mimetype": "text/x-python",
   "name": "python",
   "nbconvert_exporter": "python",
   "pygments_lexer": "ipython3",
   "version": "3.7.1"
  }
 },
 "nbformat": 4,
 "nbformat_minor": 2
}
