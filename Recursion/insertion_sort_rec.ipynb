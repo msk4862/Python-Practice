{
 "cells": [
  {
   "cell_type": "code",
   "execution_count": 14,
   "metadata": {},
   "outputs": [],
   "source": [
    "def insert_rec(ar, sub_index, i):\n",
    "    if sub_index == len(ar)-1:\n",
    "        return\n",
    "    else:\n",
    "        if i < 0 or ar[i] <= ar[sub_index + 1]:\n",
    "            temp = ar[sub_index+1]\n",
    "            ar.pop(sub_index+1)\n",
    "            ar.insert(i+1, temp)\n",
    "            print(ar, sub_index+1, i)\n",
    "            insert_rec(ar, sub_index+1, sub_index+1)\n",
    "        else:\n",
    "            insert_rec(ar, sub_index, i-1)"
   ]
  },
  {
   "cell_type": "code",
   "execution_count": 17,
   "metadata": {},
   "outputs": [
    {
     "name": "stdout",
     "output_type": "stream",
     "text": [
      "[1, 2, 54, 12, 0, 63, 39862398, 238] 1 -1\n",
      "[1, 2, 54, 12, 0, 63, 39862398, 238] 2 1\n",
      "[1, 2, 12, 54, 0, 63, 39862398, 238] 3 1\n",
      "[0, 1, 2, 12, 54, 63, 39862398, 238] 4 -1\n",
      "[0, 1, 2, 12, 54, 63, 39862398, 238] 5 4\n",
      "[0, 1, 2, 12, 54, 63, 39862398, 238] 6 5\n",
      "[0, 1, 2, 12, 54, 63, 238, 39862398] 7 5\n"
     ]
    },
    {
     "data": {
      "text/plain": [
       "[0, 1, 2, 12, 54, 63, 238, 39862398]"
      ]
     },
     "execution_count": 17,
     "metadata": {},
     "output_type": "execute_result"
    }
   ],
   "source": [
    "ar = [2,1,54,12, 0, 63, 39862398, 238]\n",
    "insert_rec(ar, 0 ,0)\n",
    "ar"
   ]
  },
  {
   "cell_type": "code",
   "execution_count": null,
   "metadata": {},
   "outputs": [],
   "source": []
  }
 ],
 "metadata": {
  "kernelspec": {
   "display_name": "Python 3",
   "language": "python",
   "name": "python3"
  },
  "language_info": {
   "codemirror_mode": {
    "name": "ipython",
    "version": 3
   },
   "file_extension": ".py",
   "mimetype": "text/x-python",
   "name": "python",
   "nbconvert_exporter": "python",
   "pygments_lexer": "ipython3",
   "version": "3.7.1"
  }
 },
 "nbformat": 4,
 "nbformat_minor": 2
}
