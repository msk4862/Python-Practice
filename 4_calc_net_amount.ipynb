{
 "cells": [
  {
   "cell_type": "code",
   "execution_count": 8,
   "metadata": {},
   "outputs": [
    {
     "name": "stdout",
     "output_type": "stream",
     "text": [
      "Enter transaction: d 200\n",
      "Enter transaction: w 4\n",
      "Enter transaction: w 200\n",
      "INSUFFICIENT AMOUNT!\n",
      "NET AMOUNT:  196.0\n",
      "Enter transaction: end\n",
      "196.0\n"
     ]
    }
   ],
   "source": [
    "def calc_net_amount():\n",
    "    net_amount = 0\n",
    "    while True:\n",
    "        transaction = input('ENTER TRANSACTION: ')\n",
    "        \n",
    "        if transaction == 'end':\n",
    "            break\n",
    "\n",
    "        action = transaction[0]      # Deposit or Withdrow\n",
    "        amount = float(transaction[2:])    # amount\n",
    "        \n",
    "        if action == 'W' or action == 'w':\n",
    "            if net_amount >= amount:\n",
    "                net_amount -= amount\n",
    "            else:\n",
    "                print('INSUFFICIENT AMOUNT!\\nNET AMOUNT: ', str(net_amount))\n",
    "                \n",
    "        elif action == 'D' or action == 'd':\n",
    "            net_amount += amount\n",
    "            \n",
    "        else:\n",
    "            print('INVALID INSTRUCTION!')\n",
    "        \n",
    "    print('NET AMOUNT: ', str(net_amount))\n",
    "\n",
    "calc_net_amount()"
   ]
  }
 ],
 "metadata": {
  "kernelspec": {
   "display_name": "Python 3",
   "language": "python",
   "name": "python3"
  },
  "language_info": {
   "codemirror_mode": {
    "name": "ipython",
    "version": 3
   },
   "file_extension": ".py",
   "mimetype": "text/x-python",
   "name": "python",
   "nbconvert_exporter": "python",
   "pygments_lexer": "ipython3",
   "version": "3.7.1"
  }
 },
 "nbformat": 4,
 "nbformat_minor": 2
}
