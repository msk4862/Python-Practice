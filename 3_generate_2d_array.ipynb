{
 "cells": [
  {
   "cell_type": "code",
   "execution_count": 19,
   "metadata": {},
   "outputs": [
    {
     "name": "stdout",
     "output_type": "stream",
     "text": [
      "[[0, 0, 0, 0, 0], [0, 1, 2, 3, 4], [0, 2, 4, 6, 8], [0, 3, 6, 9, 12], [0, 4, 8, 12, 16], [0, 5, 10, 15, 20], [0, 6, 12, 18, 24], [0, 7, 14, 21, 28]]\n"
     ]
    }
   ],
   "source": [
    "# function to generate 2d array of specified size\n",
    "def gen_2d_array(row, col):\n",
    "    arr = [[0 for i in range(0, col)] for i in range(0, row)]  # initializing 2d array with zeroes (list of lists)\n",
    "    for i in range(0, row):\n",
    "        for j in range(0, col):\n",
    "            arr[i][j] = i*j\n",
    "    return arr\n",
    "\n",
    "ar = gen_2d_array(8, 5)  #invoking function\n",
    "print(ar)"
   ]
  },
  {
   "cell_type": "code",
   "execution_count": null,
   "metadata": {},
   "outputs": [],
   "source": []
  }
 ],
 "metadata": {
  "kernelspec": {
   "display_name": "Python 3",
   "language": "python",
   "name": "python3"
  },
  "language_info": {
   "codemirror_mode": {
    "name": "ipython",
    "version": 3
   },
   "file_extension": ".py",
   "mimetype": "text/x-python",
   "name": "python",
   "nbconvert_exporter": "python",
   "pygments_lexer": "ipython3",
   "version": "3.7.1"
  }
 },
 "nbformat": 4,
 "nbformat_minor": 2
}
