{
 "cells": [
  {
   "cell_type": "code",
   "execution_count": 2,
   "metadata": {},
   "outputs": [],
   "source": [
    "import re"
   ]
  },
  {
   "cell_type": "code",
   "execution_count": 14,
   "metadata": {},
   "outputs": [
    {
     "name": "stdout",
     "output_type": "stream",
     "text": [
      "Enter your password: assA7@\n",
      "Password is valid.\n"
     ]
    }
   ],
   "source": [
    "def check_password(password):\n",
    "    x = re.search('[a-z]+[A-Z]+[0-9]+[$@#]+', password)\n",
    "    if x is not None:\n",
    "        print(\"Password is valid.\")\n",
    "    else:\n",
    "        print(\"Password is Invalid!\")\n",
    "\n",
    "password = input(\"Enter your password: \")\n",
    "check_password(password)"
   ]
  },
  {
   "cell_type": "code",
   "execution_count": null,
   "metadata": {},
   "outputs": [],
   "source": []
  }
 ],
 "metadata": {
  "kernelspec": {
   "display_name": "Python 3",
   "language": "python",
   "name": "python3"
  },
  "language_info": {
   "codemirror_mode": {
    "name": "ipython",
    "version": 3
   },
   "file_extension": ".py",
   "mimetype": "text/x-python",
   "name": "python",
   "nbconvert_exporter": "python",
   "pygments_lexer": "ipython3",
   "version": "3.7.1"
  }
 },
 "nbformat": 4,
 "nbformat_minor": 2
}
