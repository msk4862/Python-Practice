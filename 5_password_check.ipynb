{
 "cells": [
  {
   "cell_type": "code",
   "execution_count": 1,
   "metadata": {},
   "outputs": [],
   "source": [
    "import re  # for regex"
   ]
  },
  {
   "cell_type": "code",
   "execution_count": 17,
   "metadata": {},
   "outputs": [
    {
     "name": "stdout",
     "output_type": "stream",
     "text": [
      "Enter your password: 3AFvbgf\n",
      "Password must contain atleast one a-z, 0-9 and special character from $,#,@\n"
     ]
    }
   ],
   "source": [
    "def check_password(password):\n",
    "    flag = 1\n",
    "    if len(password)>=6 and len(password)<=8:\n",
    "        if re.search('[a-z]+', password) is None:\n",
    "            flag = 0\n",
    "        elif re.search('[A-Z]+', password) is None:\n",
    "            flag = 0\n",
    "        elif re.search('[0-9]+', password) is None:\n",
    "            flag = 0\n",
    "        elif re.search('[#@$]+', password) is None:\n",
    "            flag = 0\n",
    "        \n",
    "        if flag:    # flag=1 (all conditions are satisfied)\n",
    "            print(\"Password is valid\")\n",
    "        else :      # flag=0 (any of the condition is not satisfied)\n",
    "            print(\"Password must contain atleast one a-z, 0-9 and special character from $,#,@\") \n",
    "    else:\n",
    "        print(\"Password size must be of minimum 6 and maximum 8\")\n",
    "\n",
    "\n",
    "password = input(\"Enter your password: \")\n",
    "check_password(password)"
   ]
  },
  {
   "cell_type": "code",
   "execution_count": 13,
   "metadata": {},
   "outputs": [
    {
     "name": "stdout",
     "output_type": "stream",
     "text": [
      "0\n"
     ]
    }
   ],
   "source": [
    "f=0\n",
    "if f:\n",
    "    print(1)\n",
    "else:\n",
    "    print(0)"
   ]
  },
  {
   "cell_type": "code",
   "execution_count": null,
   "metadata": {},
   "outputs": [],
   "source": []
  }
 ],
 "metadata": {
  "kernelspec": {
   "display_name": "Python 3",
   "language": "python",
   "name": "python3"
  },
  "language_info": {
   "codemirror_mode": {
    "name": "ipython",
    "version": 3
   },
   "file_extension": ".py",
   "mimetype": "text/x-python",
   "name": "python",
   "nbconvert_exporter": "python",
   "pygments_lexer": "ipython3",
   "version": "3.7.1"
  }
 },
 "nbformat": 4,
 "nbformat_minor": 2
}
