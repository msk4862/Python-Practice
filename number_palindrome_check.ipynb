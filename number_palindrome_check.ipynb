{
 "cells": [
  {
   "cell_type": "code",
   "execution_count": 16,
   "metadata": {},
   "outputs": [
    {
     "name": "stdout",
     "output_type": "stream",
     "text": [
      "Enter a number: 8976798\n",
      "PALINDROME\n"
     ]
    }
   ],
   "source": [
    "def number_palindrome_check(n):\n",
    "    original = n\n",
    "    reverse, multiplier = 0, 1\n",
    "    while n!=0:\n",
    "        temp = n % 10\n",
    "        reverse = reverse + temp * multiplier\n",
    "        n //= 10\n",
    "        multiplier *= 10\n",
    "    \n",
    "    if reverse == original:\n",
    "        print('PALINDROME')\n",
    "    else:\n",
    "        print('NOT A PALINDROME!');\n",
    "        \n",
    "num = int(input(\"Enter a number: \"))\n",
    "number_palindrome_check(num)"
   ]
  },
  {
   "cell_type": "code",
   "execution_count": null,
   "metadata": {},
   "outputs": [],
   "source": []
  },
  {
   "cell_type": "code",
   "execution_count": null,
   "metadata": {},
   "outputs": [],
   "source": []
  }
 ],
 "metadata": {
  "kernelspec": {
   "display_name": "Python 3",
   "language": "python",
   "name": "python3"
  },
  "language_info": {
   "codemirror_mode": {
    "name": "ipython",
    "version": 3
   },
   "file_extension": ".py",
   "mimetype": "text/x-python",
   "name": "python",
   "nbconvert_exporter": "python",
   "pygments_lexer": "ipython3",
   "version": "3.7.1"
  }
 },
 "nbformat": 4,
 "nbformat_minor": 2
}
