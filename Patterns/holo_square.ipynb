{
 "cells": [
  {
   "cell_type": "code",
   "execution_count": 9,
   "metadata": {},
   "outputs": [],
   "source": [
    "def pattern(rows, cols):\n",
    "    if(rows<=0 and cols <=0):\n",
    "        return\n",
    "    else:\n",
    "        for i in range(rows):\n",
    "            for j in range(cols):\n",
    "                if i==0 or i == rows-1 or j==0 or j==cols-1:\n",
    "                    print('$', end='')\n",
    "                else:\n",
    "                    print(' ', end = '')\n",
    "            print()"
   ]
  },
  {
   "cell_type": "code",
   "execution_count": 10,
   "metadata": {},
   "outputs": [],
   "source": [
    "def main():\n",
    "    r = int(input('Enter number of rows:'))\n",
    "    c = int(input('Enter number of coloumns:'))\n",
    "    pattern(r, c)"
   ]
  },
  {
   "cell_type": "code",
   "execution_count": 12,
   "metadata": {},
   "outputs": [
    {
     "name": "stdout",
     "output_type": "stream",
     "text": [
      "Enter number of rows:10\n",
      "Enter number of coloumns:12\n",
      "$$$$$$$$$$$$\n",
      "$          $\n",
      "$          $\n",
      "$          $\n",
      "$          $\n",
      "$          $\n",
      "$          $\n",
      "$          $\n",
      "$          $\n",
      "$$$$$$$$$$$$\n"
     ]
    }
   ],
   "source": [
    "if __name__ == '__main__':\n",
    "    main()"
   ]
  },
  {
   "cell_type": "code",
   "execution_count": null,
   "metadata": {},
   "outputs": [],
   "source": []
  }
 ],
 "metadata": {
  "kernelspec": {
   "display_name": "Python 3",
   "language": "python",
   "name": "python3"
  },
  "language_info": {
   "codemirror_mode": {
    "name": "ipython",
    "version": 3
   },
   "file_extension": ".py",
   "mimetype": "text/x-python",
   "name": "python",
   "nbconvert_exporter": "python",
   "pygments_lexer": "ipython3",
   "version": "3.7.1"
  }
 },
 "nbformat": 4,
 "nbformat_minor": 2
}
