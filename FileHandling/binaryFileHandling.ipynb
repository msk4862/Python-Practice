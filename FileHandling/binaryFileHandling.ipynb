{
 "cells": [
  {
   "cell_type": "code",
   "execution_count": 23,
   "metadata": {},
   "outputs": [],
   "source": [
    "import pickle\n",
    "\n",
    "class Student:\n",
    "    def __init__(self, rollno, name, marks):\n",
    "        '''\n",
    "        Objective: To initialize instance variables\n",
    "        Input Parameters:\n",
    "                    self: Object of type person\n",
    "                    rollno: integer, Roll No. of the student\n",
    "                    name: String, Name of the student\n",
    "                    marks: integer, Marks of the student\n",
    "        Return Values: None\n",
    "        '''\n",
    "        self.rollno = rollno\n",
    "        self.name = name\n",
    "        self.marks = marks\n",
    "        \n",
    "    def __str__(self):\n",
    "        return 'Roll No.: '+ str(self.rollno) + '\\nName: ' + self.name + '\\nMarks: ' + str(self.marks)\n"
   ]
  },
  {
   "cell_type": "code",
   "execution_count": 29,
   "metadata": {},
   "outputs": [],
   "source": [
    "def writeFile(obj, filepath):\n",
    "        '''\n",
    "            Objective: To write student's data to the file\n",
    "            Input Parameters: \n",
    "                        self: implicit parameter\n",
    "                        filepath: specifies the file\n",
    "            Return Values: None\n",
    "        '''\n",
    "        file = open(filepath, 'wb')\n",
    "        pickle.dump(obj, file)\n",
    "        file.close()\n",
    "\n",
    "        \n",
    "def readFile(filepath):\n",
    "    '''\n",
    "        Objective: To read student's data from the file\n",
    "        Input Parameters: \n",
    "                filepath: specifies the file\n",
    "        Return Values: None\n",
    "    '''\n",
    "    file = open(filepath, 'rb')\n",
    "    read = pickle.load(file)\n",
    "    while(True):\n",
    "        print(read)\n",
    "        try:\n",
    "            read = pickle.load(file)\n",
    "        except:\n",
    "            break\n",
    "    file.close()"
   ]
  },
  {
   "cell_type": "code",
   "execution_count": 30,
   "metadata": {},
   "outputs": [
    {
     "name": "stdout",
     "output_type": "stream",
     "text": [
      "Roll No.: 1\n",
      "Name: Abhishek\n",
      "Marks: 100\n"
     ]
    }
   ],
   "source": [
    "p1 = Student(1, 'Abhishek', 100)\n",
    "p2 = Student(2, 'Ravi', 90)\n",
    "\n",
    "print(p1)"
   ]
  },
  {
   "cell_type": "code",
   "execution_count": 31,
   "metadata": {},
   "outputs": [],
   "source": [
    "file = 'StudentObj'"
   ]
  },
  {
   "cell_type": "code",
   "execution_count": 32,
   "metadata": {},
   "outputs": [],
   "source": [
    "writeFile(p1, file)\n",
    "writeFile(p2, file)"
   ]
  },
  {
   "cell_type": "code",
   "execution_count": 33,
   "metadata": {},
   "outputs": [
    {
     "name": "stdout",
     "output_type": "stream",
     "text": [
      "Roll No.: 2\n",
      "Name: Ravi\n",
      "Marks: 90\n"
     ]
    }
   ],
   "source": [
    "readFile(file)"
   ]
  },
  {
   "cell_type": "code",
   "execution_count": null,
   "metadata": {},
   "outputs": [],
   "source": []
  },
  {
   "cell_type": "code",
   "execution_count": null,
   "metadata": {},
   "outputs": [],
   "source": []
  },
  {
   "cell_type": "code",
   "execution_count": null,
   "metadata": {},
   "outputs": [],
   "source": []
  }
 ],
 "metadata": {
  "kernelspec": {
   "display_name": "Python 3",
   "language": "python",
   "name": "python3"
  },
  "language_info": {
   "codemirror_mode": {
    "name": "ipython",
    "version": 3
   },
   "file_extension": ".py",
   "mimetype": "text/x-python",
   "name": "python",
   "nbconvert_exporter": "python",
   "pygments_lexer": "ipython3",
   "version": "3.7.1"
  }
 },
 "nbformat": 4,
 "nbformat_minor": 2
}
