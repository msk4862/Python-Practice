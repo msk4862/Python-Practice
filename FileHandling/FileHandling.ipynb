{
 "cells": [
  {
   "cell_type": "code",
   "execution_count": 1,
   "metadata": {},
   "outputs": [],
   "source": [
    "def readMarks(filepath):\n",
    "    '''\n",
    "        Objective: To read marks from input file\n",
    "        input Params:\n",
    "                    filepath: path and name of the input file\n",
    "        Return Value: Content of file\n",
    "    '''\n",
    "    read_marks = open(filepath, 'r')\n",
    "    file_content = ''\n",
    "    for content in read_marks:\n",
    "        file_content += content\n",
    "    \n",
    "    return file_content"
   ]
  },
  {
   "cell_type": "code",
   "execution_count": 2,
   "metadata": {},
   "outputs": [],
   "source": [
    "def write_updated_marks(filepath, content):\n",
    "    '''\n",
    "        Objective: To write the updated marks to output file\n",
    "        input Params:\n",
    "                    filepath: path and name of the output file\n",
    "        Return Value: None\n",
    "    '''\n",
    "    write_marks = open(filepath,'w')\n",
    "    \n",
    "    students = content.split('\\n')\n",
    "    for student in students:\n",
    "        detail = student.split()\n",
    "        print(detail)\n",
    "        rno = detail[0]\n",
    "        name = detail[1]\n",
    "        marks = str(float(detail[2]) + 2.0)\n",
    "        \n",
    "        write_marks.write(rno +' ' + name + ' ' + marks + '\\n')"
   ]
  },
  {
   "cell_type": "code",
   "execution_count": 3,
   "metadata": {},
   "outputs": [
    {
     "name": "stdout",
     "output_type": "stream",
     "text": [
      "1 Rahul 69\n",
      "2 Mohit 78\n",
      "3 Sahil 45\n",
      "7 Monu 88\n"
     ]
    }
   ],
   "source": [
    "marks = readMarks('marks.txt')\n",
    "print(marks)"
   ]
  },
  {
   "cell_type": "code",
   "execution_count": 4,
   "metadata": {},
   "outputs": [
    {
     "name": "stdout",
     "output_type": "stream",
     "text": [
      "['1', 'Rahul', '69']\n",
      "['2', 'Mohit', '78']\n",
      "['3', 'Sahil', '45']\n",
      "['7', 'Monu', '88']\n"
     ]
    }
   ],
   "source": [
    "write_updated_marks('updated_marks.txt', marks)"
   ]
  },
  {
   "cell_type": "code",
   "execution_count": 12,
   "metadata": {},
   "outputs": [
    {
     "name": "stdout",
     "output_type": "stream",
     "text": [
      "1 Rahul 69\n",
      "  hskhks\n",
      "2 Mohit 78\n",
      "  hskhks\n",
      "3 Sahil 45\n",
      "  hskhks\n",
      "7 Monu 88  hskhks\n"
     ]
    }
   ],
   "source": [
    "fin = open('marks.txt', 'r')\n",
    "for line in  fin.readlines():\n",
    "    print(line + '  hskhks')"
   ]
  },
  {
   "cell_type": "code",
   "execution_count": null,
   "metadata": {},
   "outputs": [],
   "source": []
  },
  {
   "cell_type": "code",
   "execution_count": null,
   "metadata": {},
   "outputs": [],
   "source": []
  }
 ],
 "metadata": {
  "kernelspec": {
   "display_name": "Python 3",
   "language": "python",
   "name": "python3"
  },
  "language_info": {
   "codemirror_mode": {
    "name": "ipython",
    "version": 3
   },
   "file_extension": ".py",
   "mimetype": "text/x-python",
   "name": "python",
   "nbconvert_exporter": "python",
   "pygments_lexer": "ipython3",
   "version": "3.7.1"
  }
 },
 "nbformat": 4,
 "nbformat_minor": 2
}
