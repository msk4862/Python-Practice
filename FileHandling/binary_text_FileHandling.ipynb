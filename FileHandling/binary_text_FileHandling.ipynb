{
 "cells": [
  {
   "cell_type": "code",
   "execution_count": 3,
   "metadata": {},
   "outputs": [],
   "source": [
    "import pickle"
   ]
  },
  {
   "cell_type": "code",
   "execution_count": 4,
   "metadata": {},
   "outputs": [],
   "source": [
    "class Student:\n",
    "    '''\n",
    "        Student class\n",
    "    '''\n",
    "    def __init__(self, rollno, name, marks):\n",
    "        '''\n",
    "        Objective: To initialize instance variables\n",
    "        Input Parameters:\n",
    "                    self: Implicit param that refers to current instance\n",
    "                    rollno: integer, Roll No. of the student\n",
    "                    name: String, Name of the student\n",
    "                    marks: integer, Marks of the student\n",
    "        Return Values: None\n",
    "        '''\n",
    "        self.rollno = rollno\n",
    "        self.name = name\n",
    "        self.marks = marks\n",
    "        \n",
    "    def __str__(self):\n",
    "        return 'Roll No.: '+ str(self.rollno) + '\\nName: ' + self.name + '\\nMarks: ' + str(self.marks)"
   ]
  },
  {
   "cell_type": "code",
   "execution_count": 5,
   "metadata": {},
   "outputs": [],
   "source": [
    "def read_txtfile(file):\n",
    "    '''\n",
    "        Objective: To read text file\n",
    "        Input Params:\n",
    "                    file: file to be read\n",
    "        Return Value: text that has been read\n",
    "    '''\n",
    "    content = ''\n",
    "    filein = open(file, 'r')\n",
    "    for text in filein:\n",
    "        content += text\n",
    "    \n",
    "    return content"
   ]
  },
  {
   "cell_type": "code",
   "execution_count": 15,
   "metadata": {},
   "outputs": [],
   "source": [
    "def read_objfile(file):\n",
    "    '''\n",
    "        Objective: To read binary content\n",
    "        Input Params:\n",
    "                    file: file to be written\n",
    "        Return Value: None\n",
    "    '''\n",
    "    filein = open(file, 'rb')\n",
    "    \n",
    "    for obj in pickle.load(filein):\n",
    "        print(obj,'\\n')\n",
    "    filein.close()"
   ]
  },
  {
   "cell_type": "code",
   "execution_count": 8,
   "metadata": {},
   "outputs": [],
   "source": [
    "def write_objfile(obj, file):\n",
    "    '''\n",
    "        Objective: To write binary content\n",
    "        Input Params:\n",
    "                    obj: object to be written\n",
    "                    file: file to be written\n",
    "        Return Value: None\n",
    "    '''\n",
    "    fileout = open(file, 'wb')\n",
    "    pickle.dump(obj, fileout)\n",
    "    fileout.close()"
   ]
  },
  {
   "cell_type": "code",
   "execution_count": 9,
   "metadata": {},
   "outputs": [],
   "source": [
    "def create_studentObj_file(student_txtfile, student_objfile):\n",
    "    '''\n",
    "        Objective: To create student class objects reading content from text file and write it into a binary file\n",
    "        Input Params:\n",
    "                    student_txtfile: specifies the student files file (source file)\n",
    "                    student_objfile: specifies the object file (dest file)\n",
    "        Return Value: None\n",
    "    '''\n",
    "    # Reading from marks.txt and writing to StudentObj file\n",
    "    \n",
    "    \n",
    "    studentObjs = []\n",
    "    \n",
    "    marks_det = read_txtfile(student_txtfile)\n",
    "    lines = marks_det.split('\\n')\n",
    "    for line in lines:\n",
    "        details = line.split(' ')\n",
    "        s = Student(details[0], details[1], int(details[2]))\n",
    "        studentObjs.append(s)\n",
    "        \n",
    "    write_objfile(studentObjs, student_objfile)"
   ]
  },
  {
   "cell_type": "code",
   "execution_count": 11,
   "metadata": {},
   "outputs": [],
   "source": [
    "def update_marks(revised_marks_txt, objfile):\n",
    "    \n",
    "    '''\n",
    "        Objective: To update the marks of students\n",
    "        Input Params:\n",
    "                    revised_marks_txt: text file containing revised marks as - rno, marks\n",
    "                    objfile: destination object file\n",
    "        Return Value: None\n",
    "    '''\n",
    "    marks_det = read_txtfile(revised_marks_txt)\n",
    "    lines = marks_det.split('\\n')\n",
    "\n",
    "    objs = []\n",
    "    file = open(objfile, 'rb')\n",
    "    \n",
    "    for obj in pickle.load(file):\n",
    "        objs.append(obj)\n",
    "        \n",
    "    for line in lines:\n",
    "        for obj in objs:\n",
    "            if obj.rollno == line[0]:\n",
    "                obj.marks = line.split(' ')[1]\n",
    "                break\n",
    "\n",
    "    write_objfile(objs, objfile)"
   ]
  },
  {
   "cell_type": "code",
   "execution_count": 16,
   "metadata": {},
   "outputs": [
    {
     "name": "stdout",
     "output_type": "stream",
     "text": [
      "Roll No.: 1\n",
      "Name: Rahul\n",
      "Marks: 69 \n",
      "\n",
      "Roll No.: 2\n",
      "Name: Mohit\n",
      "Marks: 78 \n",
      "\n",
      "Roll No.: 3\n",
      "Name: Sahil\n",
      "Marks: 45 \n",
      "\n",
      "Roll No.: 7\n",
      "Name: Monu\n",
      "Marks: 88 \n",
      "\n"
     ]
    }
   ],
   "source": [
    "initial_marks = 'marks.txt'\n",
    "Obj_file = 'StudentObj'\n",
    "\n",
    "create_studentObj_file(initial_marks, Obj_file)\n",
    "read_objfile(Obj_file)"
   ]
  },
  {
   "cell_type": "code",
   "execution_count": 18,
   "metadata": {},
   "outputs": [
    {
     "name": "stdout",
     "output_type": "stream",
     "text": [
      "Roll No.: 1\n",
      "Name: Rahul\n",
      "Marks: 71 \n",
      "\n",
      "Roll No.: 2\n",
      "Name: Mohit\n",
      "Marks: 78 \n",
      "\n",
      "Roll No.: 3\n",
      "Name: Sahil\n",
      "Marks: 56 \n",
      "\n",
      "Roll No.: 7\n",
      "Name: Monu\n",
      "Marks: 80 \n",
      "\n"
     ]
    }
   ],
   "source": [
    "revised_marks = 'updated_marks.txt'\n",
    "\n",
    "update_marks(revised_marks, Obj_file)\n",
    "read_objfile(Obj_file)"
   ]
  },
  {
   "cell_type": "code",
   "execution_count": null,
   "metadata": {},
   "outputs": [],
   "source": []
  },
  {
   "cell_type": "code",
   "execution_count": null,
   "metadata": {},
   "outputs": [],
   "source": []
  }
 ],
 "metadata": {
  "kernelspec": {
   "display_name": "Python 3",
   "language": "python",
   "name": "python3"
  },
  "language_info": {
   "codemirror_mode": {
    "name": "ipython",
    "version": 3
   },
   "file_extension": ".py",
   "mimetype": "text/x-python",
   "name": "python",
   "nbconvert_exporter": "python",
   "pygments_lexer": "ipython3",
   "version": "3.7.1"
  }
 },
 "nbformat": 4,
 "nbformat_minor": 2
}
