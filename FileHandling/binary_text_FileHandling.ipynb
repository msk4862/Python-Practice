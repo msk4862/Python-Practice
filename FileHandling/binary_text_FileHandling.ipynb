{
 "cells": [
  {
   "cell_type": "code",
   "execution_count": 25,
   "metadata": {},
   "outputs": [],
   "source": [
    "import pickle"
   ]
  },
  {
   "cell_type": "code",
   "execution_count": 35,
   "metadata": {},
   "outputs": [],
   "source": [
    "def read_txtfile(file):\n",
    "    '''\n",
    "        Objective: To read text file\n",
    "        Input Params:\n",
    "                    file: file to be read\n",
    "        Return Value: text that has been read\n",
    "    '''\n",
    "    content = ''\n",
    "    filein = open(file, 'r')\n",
    "    for text in filein:\n",
    "        content += text\n",
    "    \n",
    "    return content"
   ]
  },
  {
   "cell_type": "code",
   "execution_count": 36,
   "metadata": {},
   "outputs": [],
   "source": [
    "def read_objfile(file):\n",
    "    '''\n",
    "        Objective: To read binary content\n",
    "        Input Params:\n",
    "                    file: file to be written\n",
    "        Return Value: None\n",
    "    '''\n",
    "    filein = open(file, 'rb')\n",
    "    \n",
    "    objs = []\n",
    "    line = pickle.load(filein)\n",
    "    \n",
    "    while(True):\n",
    "        objs.append(line)\n",
    "        try:\n",
    "            line = pickle.load(filein)\n",
    "        except:\n",
    "            break\n",
    "    filein.close()\n",
    "    return objs"
   ]
  },
  {
   "cell_type": "code",
   "execution_count": 37,
   "metadata": {},
   "outputs": [],
   "source": [
    "def write_objfile(obj, file):\n",
    "    '''\n",
    "        Objective: To write binary content\n",
    "        Input Params:\n",
    "                    file: file to be written\n",
    "        Return Value: None\n",
    "    '''\n",
    "    fileout = open(file, 'wb')\n",
    "    pickle.dump(obj, fileout)\n",
    "    fileout.close()"
   ]
  },
  {
   "cell_type": "code",
   "execution_count": 46,
   "metadata": {},
   "outputs": [],
   "source": [
    "def write_txt_to_obj(txtfile, objfile):\n",
    "\n",
    "    # Reading from marks.txt and writing to StudentObj file\n",
    "    marks_det = read_txtfile(txtfile)\n",
    "    lines = marks_det.split('\\n')\n",
    "    for line in lines:\n",
    "        details = line.split(' ')\n",
    "        write_objfile(details, objfile)"
   ]
  },
  {
   "cell_type": "code",
   "execution_count": 49,
   "metadata": {},
   "outputs": [],
   "source": [
    "def update_marks(revised_marks_txt, objfile):\n",
    "    marks_det = read_txtfile(revised_marks_txt)\n",
    "    lines = marks_det.split('\\n')\n",
    "\n",
    "    objs = read_objfile(Obj_file)\n",
    "    updated_objs = []\n",
    "    file = open(objfile, 'wb')\n",
    "\n",
    "    for line in lines:\n",
    "        for obj in objs:\n",
    "            if obj[0] == line[0]:\n",
    "                # Student whose marks has been revised \n",
    "                objs.remove(obj)\n",
    "                obj[2]= line.split(' ')[2]\n",
    "                updated_objs.append(obj)\n",
    "                pickle.dump(obj, file)\n",
    "                break\n",
    "\n",
    "    # Student whose marks has not been revised\n",
    "    for obj in objs:\n",
    "        pickle.dump(obj, file)\n",
    "\n",
    "    file.close()"
   ]
  },
  {
   "cell_type": "code",
   "execution_count": 47,
   "metadata": {},
   "outputs": [
    {
     "data": {
      "text/plain": [
       "[['1', 'Rahul', '69'],\n",
       " ['2', 'Mohit', '78'],\n",
       " ['3', 'Sahil', '45.7'],\n",
       " ['7', 'Monu', '88.1']]"
      ]
     },
     "execution_count": 47,
     "metadata": {},
     "output_type": "execute_result"
    }
   ],
   "source": [
    "initial_marks = 'marks.txt'\n",
    "Obj_file = 'StudentObj'\n",
    "\n",
    "write_txt_to_obj(initial_marks, Obj_file)\n",
    "read_objfile(Obj_file)"
   ]
  },
  {
   "cell_type": "code",
   "execution_count": 50,
   "metadata": {},
   "outputs": [
    {
     "data": {
      "text/plain": [
       "[['1', 'Rahul', '71.0'],\n",
       " ['2', 'Mohit', '80.0'],\n",
       " ['3', 'Sahil', '45.7'],\n",
       " ['7', 'Monu', '88.1']]"
      ]
     },
     "execution_count": 50,
     "metadata": {},
     "output_type": "execute_result"
    }
   ],
   "source": [
    "revised_marks = 'updated_marks.txt'\n",
    "\n",
    "update_marks(revised_marks, Obj_file)\n",
    "read_objfile(Obj_file)"
   ]
  },
  {
   "cell_type": "code",
   "execution_count": null,
   "metadata": {},
   "outputs": [],
   "source": []
  }
 ],
 "metadata": {
  "kernelspec": {
   "display_name": "Python 3",
   "language": "python",
   "name": "python3"
  },
  "language_info": {
   "codemirror_mode": {
    "name": "ipython",
    "version": 3
   },
   "file_extension": ".py",
   "mimetype": "text/x-python",
   "name": "python",
   "nbconvert_exporter": "python",
   "pygments_lexer": "ipython3",
   "version": "3.7.1"
  }
 },
 "nbformat": 4,
 "nbformat_minor": 2
}
