{
 "cells": [
  {
   "cell_type": "code",
   "execution_count": 45,
   "metadata": {},
   "outputs": [],
   "source": [
    "def pattern(n):\n",
    "    # upper triangle\n",
    "    for i in range(n):\n",
    "        j = 0\n",
    "        for k in range(n-i-1):\n",
    "            print(' ', end='')\n",
    "        while j<(2*i+1):\n",
    "            print('*', end='')\n",
    "            j+=1\n",
    "        print()\n",
    "    \n",
    "    # lower triangle\n",
    "    for i in range(n-1):\n",
    "        j = 0\n",
    "        for k in range(i+1):\n",
    "            print(' ', end='')\n",
    "        while j<(2*(n-i-1)-1):\n",
    "            print('*', end='')\n",
    "            j+=1\n",
    "        print()"
   ]
  },
  {
   "cell_type": "code",
   "execution_count": 49,
   "metadata": {},
   "outputs": [
    {
     "name": "stdout",
     "output_type": "stream",
     "text": [
      "  *\n",
      " ***\n",
      "*****\n",
      " ***\n",
      "  *\n"
     ]
    }
   ],
   "source": [
    "pattern(3)"
   ]
  },
  {
   "cell_type": "code",
   "execution_count": null,
   "metadata": {},
   "outputs": [],
   "source": []
  }
 ],
 "metadata": {
  "kernelspec": {
   "display_name": "Python 3",
   "language": "python",
   "name": "python3"
  },
  "language_info": {
   "codemirror_mode": {
    "name": "ipython",
    "version": 3
   },
   "file_extension": ".py",
   "mimetype": "text/x-python",
   "name": "python",
   "nbconvert_exporter": "python",
   "pygments_lexer": "ipython3",
   "version": "3.7.1"
  }
 },
 "nbformat": 4,
 "nbformat_minor": 2
}
