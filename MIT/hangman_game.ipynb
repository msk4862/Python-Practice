{
 "cells": [
  {
   "cell_type": "markdown",
   "metadata": {},
   "source": [
    "## Wordgame: Hangman "
   ]
  },
  {
   "cell_type": "code",
   "execution_count": 2,
   "metadata": {},
   "outputs": [],
   "source": [
    "import random\n",
    "import string\n",
    "\n",
    "WORDLIST_FILENAME = \"words.txt\""
   ]
  },
  {
   "cell_type": "code",
   "execution_count": 3,
   "metadata": {},
   "outputs": [],
   "source": [
    "def load_words():\n",
    "    \"\"\"\n",
    "    Returns a list of valid words. Words are strings of lowercase letters.\n",
    "    \n",
    "    Depending on the size of the word list, this function may\n",
    "    take a while to finish.\n",
    "    \"\"\"\n",
    "    print (\"Loading word list from file...\")\n",
    "    # inFile: file\n",
    "    inFile = open(WORDLIST_FILENAME, 'r')\n",
    "    # line: string\n",
    "    line = inFile.readline()\n",
    "    # wordlist: list of strings\n",
    "    wordlist = line.split()\n",
    "    print (\"  \", len(wordlist), \"words loaded.\")\n",
    "    return wordlist"
   ]
  },
  {
   "cell_type": "code",
   "execution_count": 4,
   "metadata": {},
   "outputs": [],
   "source": [
    "def choose_word(wordlist):\n",
    "    \"\"\"\n",
    "    wordlist (list): list of words (strings)\n",
    "\n",
    "    Returns a word from wordlist at random\n",
    "    \"\"\"\n",
    "    return random.choice(wordlist)"
   ]
  },
  {
   "cell_type": "code",
   "execution_count": 6,
   "metadata": {},
   "outputs": [],
   "source": [
    "def hangame_game():\n",
    "    wordlist = load_words()\n",
    "    word = choose_word(wordlist)\n",
    "    print(word)\n",
    "    alphabets = string.ascii_lowercase\n",
    "    \n",
    "    guesses, is_won = 8, False\n",
    "    guessed_chars = ['_' for i in range(len(word))]\n",
    "    \n",
    "    print('''------- Welcome to the game, Hangman! --------\n",
    "    I am thinking of a word that is ''', len(word), ' letters long.')\n",
    "    \n",
    "    while guesses > 0:\n",
    "        print('\\n\\n--------------------------')\n",
    "        print('You have ', guesses, ' guesses left.')\n",
    "        print('Available letters: ', alphabets)\n",
    "        char = input('Please guess a letter: ')\n",
    "        \n",
    "        if char in word:\n",
    "            print('Good guess:', end=' ')\n",
    "            #replace _ with guessed char\n",
    "            for i in range(len(word)):\n",
    "                if guessed_chars[i]== '_':\n",
    "                    guessed_chars[i] = word[i] if char == word[i] else '_'  \n",
    "                    \n",
    "                print(guessed_chars[i], end=' ') \n",
    "            alphabets.replace(char, '')\n",
    "        else:\n",
    "            guesses -= 1\n",
    "            print('Oops! That letter is not in my word: ', end='')\n",
    "            for i in guessed_chars:\n",
    "                print(i, end=' ')\n",
    "        \n",
    "        # All letters has been found\n",
    "        if '_' not in guessed_chars:\n",
    "            is_won = True\n",
    "            break\n",
    "    \n",
    "    if is_won:\n",
    "        print('\\n\\nCongratulations, you won!')\n",
    "    else:\n",
    "        print('\\n\\nSorry! You have used all of your guesses\\nMy word was: ', word)"
   ]
  },
  {
   "cell_type": "code",
   "execution_count": null,
   "metadata": {},
   "outputs": [
    {
     "name": "stdout",
     "output_type": "stream",
     "text": [
      "Loading word list from file...\n",
      "   55900 words loaded.\n",
      "ceasing\n",
      "------- Welcome to the game, Hangman! --------\n",
      "    I am thinking of a word that is  7  letters long.\n",
      "\n",
      "\n",
      "--------------------------\n",
      "You have  8  guesses left.\n",
      "Available letters:  abcdefghijklmnopqrstuvwxyz\n",
      "Please guess a letter: c\n",
      "Good guess: c _ _ _ _ _ _ \n",
      "\n",
      "--------------------------\n",
      "You have  8  guesses left.\n",
      "Available letters:  abcdefghijklmnopqrstuvwxyz\n",
      "Please guess a letter: g\n",
      "Good guess: c _ _ _ _ _ g \n",
      "\n",
      "--------------------------\n",
      "You have  8  guesses left.\n",
      "Available letters:  abcdefghijklmnopqrstuvwxyz\n",
      "Please guess a letter: i\n",
      "Good guess: c _ _ _ i _ g \n",
      "\n",
      "--------------------------\n",
      "You have  8  guesses left.\n",
      "Available letters:  abcdefghijklmnopqrstuvwxyz\n",
      "Please guess a letter: a\n",
      "Good guess: c _ a _ i _ g \n",
      "\n",
      "--------------------------\n",
      "You have  8  guesses left.\n",
      "Available letters:  abcdefghijklmnopqrstuvwxyz\n"
     ]
    }
   ],
   "source": [
    "hangame_game()"
   ]
  }
 ],
 "metadata": {
  "kernelspec": {
   "display_name": "Python 3",
   "language": "python",
   "name": "python3"
  },
  "language_info": {
   "codemirror_mode": {
    "name": "ipython",
    "version": 3
   },
   "file_extension": ".py",
   "mimetype": "text/x-python",
   "name": "python",
   "nbconvert_exporter": "python",
   "pygments_lexer": "ipython3",
   "version": "3.7.1"
  }
 },
 "nbformat": 4,
 "nbformat_minor": 2
}
