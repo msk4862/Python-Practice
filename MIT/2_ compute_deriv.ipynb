{
 "cells": [
  {
   "cell_type": "code",
   "execution_count": 1,
   "metadata": {},
   "outputs": [],
   "source": [
    "def  compute_deriv(poly):\n",
    "    '''\n",
    "    Example:\n",
    "    poly = (-13.39, 0.0, 17.5, 3.0, 1.0) # x4 + 3.0x3 + 17.5x2 - 13.39 \n",
    "    print compute_deriv(poly) : (0.0, 35.0, 9.0, 4.0) # 4.0x3 + 9.0x2 + 35.0x \n",
    "    poly: tuple of numbers, length > 0\n",
    "    returns: tuple of numbers\n",
    "    '''\n",
    "    deg = len(poly)-1\n",
    "    i = 1\n",
    "    res_poly = ()\n",
    "    while deg > 0:\n",
    "        res_poly = (poly[-i]*deg, ) + res_poly\n",
    "        deg -= 1\n",
    "        i += 1\n",
    "    \n",
    "    if len(res_poly)==0:\n",
    "        res_poly = (0.0,)\n",
    "    \n",
    "    return res_poly"
   ]
  },
  {
   "cell_type": "code",
   "execution_count": 2,
   "metadata": {},
   "outputs": [
    {
     "data": {
      "text/plain": [
       "(0.0, 35.0, 9.0, 4.0)"
      ]
     },
     "execution_count": 2,
     "metadata": {},
     "output_type": "execute_result"
    }
   ],
   "source": [
    "poly = (-13.39, 0.0, 17.5, 3.0, 1.0)\n",
    "compute_deriv(poly)"
   ]
  },
  {
   "cell_type": "code",
   "execution_count": null,
   "metadata": {},
   "outputs": [],
   "source": []
  }
 ],
 "metadata": {
  "kernelspec": {
   "display_name": "Python 3",
   "language": "python",
   "name": "python3"
  },
  "language_info": {
   "codemirror_mode": {
    "name": "ipython",
    "version": 3
   },
   "file_extension": ".py",
   "mimetype": "text/x-python",
   "name": "python",
   "nbconvert_exporter": "python",
   "pygments_lexer": "ipython3",
   "version": "3.7.1"
  }
 },
 "nbformat": 4,
 "nbformat_minor": 2
}
