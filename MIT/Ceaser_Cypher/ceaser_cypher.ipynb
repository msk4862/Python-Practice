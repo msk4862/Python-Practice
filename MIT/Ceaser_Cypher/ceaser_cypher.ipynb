{
 "cells": [
  {
   "cell_type": "code",
   "execution_count": 48,
   "metadata": {},
   "outputs": [],
   "source": [
    "def build_encoder(shift):\n",
    "    '''\n",
    "        Returns a dict that can apply a Caesar cipher to a letter.\n",
    "        The cipher is defined by the shift value. Ignores non-letter characters\n",
    "        like punctuation and numbers.\n",
    "\n",
    "        shift: -27 < int < 27\n",
    "        returns: dict\n",
    "    '''\n",
    "    \n",
    "    _letters = ' ABCDEFGHIJKLMNOPQRSTUVWXYZ'\n",
    "    ceaser_code_dict = {}\n",
    "    for i,letter in enumerate(_letters):\n",
    "        ceaser_code_dict[letter] = _letters[(i+shift)%27]\n",
    "        ceaser_code_dict[letter.lower()] = _letters[(i+shift)%27].lower()\n",
    "        \n",
    "        \n",
    "    return ceaser_code_dict"
   ]
  },
  {
   "cell_type": "code",
   "execution_count": 50,
   "metadata": {},
   "outputs": [
    {
     "data": {
      "text/plain": [
       "{' ': 'c',\n",
       " 'A': 'D',\n",
       " 'a': 'd',\n",
       " 'B': 'E',\n",
       " 'b': 'e',\n",
       " 'C': 'F',\n",
       " 'c': 'f',\n",
       " 'D': 'G',\n",
       " 'd': 'g',\n",
       " 'E': 'H',\n",
       " 'e': 'h',\n",
       " 'F': 'I',\n",
       " 'f': 'i',\n",
       " 'G': 'J',\n",
       " 'g': 'j',\n",
       " 'H': 'K',\n",
       " 'h': 'k',\n",
       " 'I': 'L',\n",
       " 'i': 'l',\n",
       " 'J': 'M',\n",
       " 'j': 'm',\n",
       " 'K': 'N',\n",
       " 'k': 'n',\n",
       " 'L': 'O',\n",
       " 'l': 'o',\n",
       " 'M': 'P',\n",
       " 'm': 'p',\n",
       " 'N': 'Q',\n",
       " 'n': 'q',\n",
       " 'O': 'R',\n",
       " 'o': 'r',\n",
       " 'P': 'S',\n",
       " 'p': 's',\n",
       " 'Q': 'T',\n",
       " 'q': 't',\n",
       " 'R': 'U',\n",
       " 'r': 'u',\n",
       " 'S': 'V',\n",
       " 's': 'v',\n",
       " 'T': 'W',\n",
       " 't': 'w',\n",
       " 'U': 'X',\n",
       " 'u': 'x',\n",
       " 'V': 'Y',\n",
       " 'v': 'y',\n",
       " 'W': 'Z',\n",
       " 'w': 'z',\n",
       " 'X': ' ',\n",
       " 'x': ' ',\n",
       " 'Y': 'A',\n",
       " 'y': 'a',\n",
       " 'Z': 'B',\n",
       " 'z': 'b'}"
      ]
     },
     "execution_count": 50,
     "metadata": {},
     "output_type": "execute_result"
    }
   ],
   "source": [
    "build_encoder(3)"
   ]
  },
  {
   "cell_type": "code",
   "execution_count": 51,
   "metadata": {},
   "outputs": [],
   "source": [
    "def build_decoder(shift):\n",
    "    '''\n",
    "        Returns a dict that can be used to decode an encrypted text.\n",
    "    '''\n",
    "    _letters = ' ABCDEFGHIJKLMNOPQRSTUVWXYZ'\n",
    "    ceaser_decode_dict = {}\n",
    "    for i,letter in enumerate(_letters):\n",
    "        ceaser_decode_dict[letter] = _letters[(i-shift)]\n",
    "        ceaser_decode_dict[letter.lower()] = _letters[(i-shift)].lower()\n",
    "        \n",
    "        \n",
    "    return ceaser_decode_dict"
   ]
  },
  {
   "cell_type": "code",
   "execution_count": 52,
   "metadata": {},
   "outputs": [
    {
     "data": {
      "text/plain": [
       "{' ': 'x',\n",
       " 'A': 'Y',\n",
       " 'a': 'y',\n",
       " 'B': 'Z',\n",
       " 'b': 'z',\n",
       " 'C': ' ',\n",
       " 'c': ' ',\n",
       " 'D': 'A',\n",
       " 'd': 'a',\n",
       " 'E': 'B',\n",
       " 'e': 'b',\n",
       " 'F': 'C',\n",
       " 'f': 'c',\n",
       " 'G': 'D',\n",
       " 'g': 'd',\n",
       " 'H': 'E',\n",
       " 'h': 'e',\n",
       " 'I': 'F',\n",
       " 'i': 'f',\n",
       " 'J': 'G',\n",
       " 'j': 'g',\n",
       " 'K': 'H',\n",
       " 'k': 'h',\n",
       " 'L': 'I',\n",
       " 'l': 'i',\n",
       " 'M': 'J',\n",
       " 'm': 'j',\n",
       " 'N': 'K',\n",
       " 'n': 'k',\n",
       " 'O': 'L',\n",
       " 'o': 'l',\n",
       " 'P': 'M',\n",
       " 'p': 'm',\n",
       " 'Q': 'N',\n",
       " 'q': 'n',\n",
       " 'R': 'O',\n",
       " 'r': 'o',\n",
       " 'S': 'P',\n",
       " 's': 'p',\n",
       " 'T': 'Q',\n",
       " 't': 'q',\n",
       " 'U': 'R',\n",
       " 'u': 'r',\n",
       " 'V': 'S',\n",
       " 'v': 's',\n",
       " 'W': 'T',\n",
       " 'w': 't',\n",
       " 'X': 'U',\n",
       " 'x': 'u',\n",
       " 'Y': 'V',\n",
       " 'y': 'v',\n",
       " 'Z': 'W',\n",
       " 'z': 'w'}"
      ]
     },
     "execution_count": 52,
     "metadata": {},
     "output_type": "execute_result"
    }
   ],
   "source": [
    "build_decoder(3)"
   ]
  },
  {
   "cell_type": "code",
   "execution_count": 55,
   "metadata": {},
   "outputs": [],
   "source": [
    "def apply_coder(text, coder):\n",
    "    '''\n",
    "        Applies the coder to the text. Returns the encoded text.\n",
    "\n",
    "        text: string\n",
    "        coder: dict with mappings of characters to shifted characters\n",
    "        returns: text after mapping coder chars to original text\n",
    "\n",
    "        Example:\n",
    "        >>> apply_coder(\"Hello, world!\", build_encoder(3))\n",
    "        'Khoor,czruog!'\n",
    "        >>> apply_coder(\"Khoor,czruog!\", build_decoder(3))\n",
    "        'Hello, world!'\n",
    "    '''\n",
    "    res = ''\n",
    "    \n",
    "    for letter in text:\n",
    "        if letter in coder:\n",
    "            res += coder[letter]\n",
    "        else:\n",
    "            res += letter\n",
    "    \n",
    "    return res"
   ]
  },
  {
   "cell_type": "code",
   "execution_count": 56,
   "metadata": {},
   "outputs": [
    {
     "data": {
      "text/plain": [
       "'Khoor,czruog!'"
      ]
     },
     "execution_count": 56,
     "metadata": {},
     "output_type": "execute_result"
    }
   ],
   "source": [
    "apply_coder(\"Hello, world!\", build_encoder(3))"
   ]
  },
  {
   "cell_type": "code",
   "execution_count": 57,
   "metadata": {},
   "outputs": [
    {
     "data": {
      "text/plain": [
       "'Hello, world!'"
      ]
     },
     "execution_count": 57,
     "metadata": {},
     "output_type": "execute_result"
    }
   ],
   "source": [
    "apply_coder(\"Khoor,czruog!\", build_decoder(3))"
   ]
  },
  {
   "cell_type": "code",
   "execution_count": null,
   "metadata": {},
   "outputs": [],
   "source": []
  }
 ],
 "metadata": {
  "kernelspec": {
   "display_name": "Python 3",
   "language": "python",
   "name": "python3"
  },
  "language_info": {
   "codemirror_mode": {
    "name": "ipython",
    "version": 3
   },
   "file_extension": ".py",
   "mimetype": "text/x-python",
   "name": "python",
   "nbconvert_exporter": "python",
   "pygments_lexer": "ipython3",
   "version": "3.7.1"
  }
 },
 "nbformat": 4,
 "nbformat_minor": 2
}
