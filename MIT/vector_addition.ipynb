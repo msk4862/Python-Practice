{
 "cells": [
  {
   "cell_type": "code",
   "execution_count": 2,
   "metadata": {},
   "outputs": [],
   "source": [
    "def addVectors(v1, v2):\n",
    "    \"\"\" assumes v1 and v2 are lists of ints. Returns a list containing\n",
    "    the pointwise sum of the elements in v1 and v2. E.g.,\n",
    "    addVectors([4,5], [1,2,3]) returns [5,7,3],and\n",
    "    addVectors([], []) returns []. Does not modify inputs.\"\"\"\n",
    "\n",
    "    min_len = min(len(v1), len(v2))\n",
    "    i = 0\n",
    "    res = []\n",
    "    while i<min_len:\n",
    "        res.append(v1[i] + v2[i])\n",
    "        i += 1\n",
    "    if i < len(v1) :\n",
    "        res += v1[i:len(v1)]\n",
    "    elif i < len(v2) :\n",
    "        res += v2[i:len(v2)]\n",
    "        \n",
    "    return res"
   ]
  },
  {
   "cell_type": "code",
   "execution_count": 6,
   "metadata": {},
   "outputs": [
    {
     "data": {
      "text/plain": [
       "[2, 5, 4, 7]"
      ]
     },
     "execution_count": 6,
     "metadata": {},
     "output_type": "execute_result"
    }
   ],
   "source": [
    "addVectors([1,3, 4,7], [1, 2])"
   ]
  },
  {
   "cell_type": "code",
   "execution_count": 7,
   "metadata": {},
   "outputs": [
    {
     "data": {
      "text/plain": [
       "[]"
      ]
     },
     "execution_count": 7,
     "metadata": {},
     "output_type": "execute_result"
    }
   ],
   "source": [
    "addVectors([],[])"
   ]
  },
  {
   "cell_type": "code",
   "execution_count": null,
   "metadata": {},
   "outputs": [],
   "source": []
  }
 ],
 "metadata": {
  "kernelspec": {
   "display_name": "Python 3",
   "language": "python",
   "name": "python3"
  },
  "language_info": {
   "codemirror_mode": {
    "name": "ipython",
    "version": 3
   },
   "file_extension": ".py",
   "mimetype": "text/x-python",
   "name": "python",
   "nbconvert_exporter": "python",
   "pygments_lexer": "ipython3",
   "version": "3.7.1"
  }
 },
 "nbformat": 4,
 "nbformat_minor": 2
}
